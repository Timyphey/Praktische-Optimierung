{
  "cells": [
    {
      "cell_type": "code",
      "execution_count": 1,
      "metadata": {
        "id": "FDFrK_y5YesV"
      },
      "outputs": [],
      "source": [
        "from itertools import permutations\n",
        "from random import shuffle\n",
        "import random\n",
        "import time"
      ]
    },
    {
      "cell_type": "code",
      "execution_count": 3,
      "metadata": {
        "id": "pZN_KtGrYlIg"
      },
      "outputs": [],
      "source": [
        "# load the distnace matrix from file\n",
        "def loadDistances():\n",
        "\tdistancesFile = open(\"citiesAndDistances.txt\")\n",
        "\tcities = distancesFile.readline().split()\n",
        "\tdel cities[16:]\n",
        "\tnumCities = len(cities)\n",
        "\n",
        "\t# create an empty 2-dimensional matrix\n",
        "\tcityDistances = [[0.0] * numCities for i in range(numCities)]\n",
        "\n",
        "\t# for all cities:\n",
        "\tfor i in range(numCities):\n",
        "\t\tdistances = distancesFile.readline().split()\n",
        "\t\tdel distances[0]\n",
        "\t\tdel distances[16:]\n",
        "\t\tfor j in range(len(distances)):\n",
        "\t\t\tcityDistances[i][j] = int(distances[j])\n",
        "\treturn (cities,cityDistances)"
      ]
    },
    {
      "cell_type": "code",
      "execution_count": 4,
      "metadata": {
        "colab": {
          "base_uri": "https://localhost:8080/"
        },
        "id": "VVMvmv0NYwHI",
        "outputId": "cd66ab43-1a9e-4e9a-bf4e-5304ec89f1a9"
      },
      "outputs": [
        {
          "name": "stdout",
          "output_type": "stream",
          "text": [
            "[[0, 97, 151, 353, 354, 542, 886, 750, 626, 766, 485, 254, 210, 376, 486, 612], [97, 0, 111, 287, 288, 476, 790, 654, 531, 670, 400, 158, 125, 280, 391, 516], [150, 111, 0, 212, 213, 401, 758, 805, 634, 773, 504, 262, 229, 212, 474, 620], [350, 283, 208, 0, 35, 202, 562, 610, 562, 701, 539, 264, 372, 134, 279, 548], [355, 288, 213, 35, 0, 193, 584, 631, 584, 723, 561, 286, 406, 156, 300, 570], [544, 477, 402, 204, 193, 0, 459, 506, 498, 637, 583, 365, 472, 227, 214, 484], [886, 791, 757, 554, 584, 461, 0, 232, 426, 440, 615, 659, 767, 521, 396, 423], [751, 655, 805, 601, 632, 508, 232, 0, 213, 222, 414, 512, 631, 511, 339, 219], [626, 531, 633, 554, 584, 500, 427, 217, 0, 147, 230, 388, 491, 462, 295, 16], [767, 672, 774, 695, 725, 641, 439, 221, 152, 0, 279, 529, 552, 603, 437, 160], [487, 402, 505, 528, 558, 581, 611, 409, 226, 281, 0, 277, 292, 420, 403, 202], [246, 151, 253, 256, 286, 367, 658, 512, 388, 528, 281, 0, 127, 148, 248, 374], [211, 127, 229, 364, 406, 476, 767, 631, 492, 570, 291, 135, 0, 257, 367, 468], [376, 281, 219, 125, 155, 230, 522, 511, 464, 603, 424, 149, 257, 0, 171, 450], [487, 392, 475, 271, 301, 217, 412, 340, 296, 435, 415, 249, 368, 170, 0, 281], [613, 518, 620, 541, 571, 487, 423, 219, 16, 158, 202, 375, 464, 449, 282, 0]]\n"
          ]
        }
      ],
      "source": [
        "(cities, distances) = loadDistances()\n",
        "print(distances)"
      ]
    },
    {
      "cell_type": "markdown",
      "metadata": {
        "id": "EDQoT2U1X7bJ"
      },
      "source": [
        "# Aufgabe 1 (Brute Force)"
      ]
    },
    {
      "cell_type": "markdown",
      "metadata": {
        "id": "2YO0ZZeRYVgF"
      },
      "source": [
        "1. Dein Programm sollte den Parameter n haben, mit dem man angeben kann, wie viele Städte der Handlungsreisende besuchen möchte. Bei n = 3 würde der Handlungsreisende nach der kürzesten Rundreise suchen, die die Städte Kiel (1), Hamburg (2) und Schwerin (3) enthält."
      ]
    },
    {
      "cell_type": "code",
      "execution_count": 5,
      "metadata": {
        "id": "6yqiu-GVZ8Os"
      },
      "outputs": [],
      "source": [
        "# compute for a permutation of city names p the trip length\n",
        "# compute first the distance form the last to the first city\n",
        "# then add the distance from the first to the second city,...\n",
        "# and finally, add the distance from the second last to the last city\n",
        "#\n",
        "def measurePath(p, distances):\n",
        "\tlength = 0\n",
        "\tfor i in range(len(p)):\n",
        "\t\tlength += distances[p[i-1]][p[i]]\n",
        "\treturn length"
      ]
    },
    {
      "cell_type": "code",
      "execution_count": 6,
      "metadata": {
        "id": "Fnph_A2QZFO4"
      },
      "outputs": [],
      "source": [
        "def tryAllPermutations(maximalNoOfCities):\n",
        "  # save starting time\n",
        "  startTime = time.perf_counter()\n",
        "\n",
        "  # get longest trip for upper bound\n",
        "  shortestTourLength = sum([sum(i) for i in distances])\n",
        "\n",
        "\t# generate all permutations\n",
        "  allPermutations = permutations(range(maximalNoOfCities))\n",
        "\n",
        "  for p in allPermutations:\n",
        "    # measure path length\n",
        "    tourLength = measurePath(p, distances)\n",
        "\n",
        "\t\t# if new path is shorter than the old best path, remember the new path\n",
        "    if tourLength < shortestTourLength:\n",
        "      shortestTourLength = tourLength\n",
        "      shortestTour = p\n",
        "\n",
        "  shortestTourCities = [cities[i] for i in shortestTour]\n",
        "\n",
        "  endTime = time.perf_counter()\n",
        "  runtime = endTime - startTime\n",
        "  print(\"{} cities\\t runtime: {:.5f} s\\t shortest_length: {}\\t tour: {}\".format(maximalNoOfCities, runtime, shortestTourLength, shortestTourCities))"
      ]
    },
    {
      "cell_type": "markdown",
      "metadata": {
        "id": "GuOagbV4w3sR"
      },
      "source": [
        "2. Messe die Längen der kürzesten Reisen und die Rechenzeiten für n = 5,6,7,8,9,10,.... Du kannst das n solange erhöhen, bis die Rechenzeit für deinen Computer zu groß wird. Trage die Werte in die unten stehende Tabelle ein (Spalten: Brute Force)."
      ]
    },
    {
      "cell_type": "code",
      "execution_count": 8,
      "metadata": {
        "colab": {
          "base_uri": "https://localhost:8080/"
        },
        "id": "ubH_WqoEV3im",
        "outputId": "a778e588-bd53-4fbd-b7a6-1aba8fdc0279"
      },
      "outputs": [
        {
          "name": "stdout",
          "output_type": "stream",
          "text": [
            "4 cities\t runtime: 0.00000 s\t shortest_length: 742\t tour: ['Kiel', 'Hamburg', 'Potsdam', 'Schwerin']\n"
          ]
        }
      ],
      "source": [
        "tryAllPermutations(4)"
      ]
    },
    {
      "cell_type": "code",
      "execution_count": 9,
      "metadata": {
        "colab": {
          "base_uri": "https://localhost:8080/"
        },
        "id": "LTY-8kG3ktKR",
        "outputId": "c6a32e76-46a8-48a1-dd72-01bbeaa874e9"
      },
      "outputs": [
        {
          "name": "stdout",
          "output_type": "stream",
          "text": [
            "5 cities\t runtime: 0.00051 s\t shortest_length: 778\t tour: ['Kiel', 'Hamburg', 'Berlin', 'Potsdam', 'Schwerin']\n",
            "6 cities\t runtime: 0.00000 s\t shortest_length: 1140\t tour: ['Kiel', 'Hamburg', 'Berlin', 'Dresden', 'Potsdam', 'Schwerin']\n",
            "7 cities\t runtime: 0.00205 s\t shortest_length: 1934\t tour: ['Kiel', 'Hamburg', 'Muenchen', 'Dresden', 'Berlin', 'Potsdam', 'Schwerin']\n",
            "8 cities\t runtime: 0.01756 s\t shortest_length: 2030\t tour: ['Kiel', 'Hamburg', 'Stuttgart', 'Muenchen', 'Dresden', 'Berlin', 'Potsdam', 'Schwerin']\n",
            "9 cities\t runtime: 0.17288 s\t shortest_length: 2123\t tour: ['Kiel', 'Schwerin', 'Potsdam', 'Berlin', 'Dresden', 'Muenchen', 'Stuttgart', 'Mainz', 'Hamburg']\n",
            "10 cities\t runtime: 1.84964 s\t shortest_length: 2275\t tour: ['Kiel', 'Hamburg', 'Mainz', 'Saarbruecken', 'Stuttgart', 'Muenchen', 'Dresden', 'Berlin', 'Potsdam', 'Schwerin']\n",
            "11 cities\t runtime: 22.15554 s\t shortest_length: 2370\t tour: ['Kiel', 'Hamburg', 'Duesseldorf', 'Mainz', 'Saarbruecken', 'Stuttgart', 'Muenchen', 'Dresden', 'Berlin', 'Potsdam', 'Schwerin']\n"
          ]
        }
      ],
      "source": [
        "print(\"starting brute force for n = 5,...,11\")\n",
        "for i in range(5,12):\n",
        "  tryAllPermutations(i)"
      ]
    },
    {
      "cell_type": "code",
      "execution_count": 10,
      "metadata": {
        "colab": {
          "base_uri": "https://localhost:8080/"
        },
        "id": "LtFi1m3tcaYO",
        "outputId": "fc6d6b79-a755-4b27-81aa-767c3b28e7e1"
      },
      "outputs": [
        {
          "name": "stdout",
          "output_type": "stream",
          "text": [
            "12 cities\t runtime: 276.36063 s\t shortest_length: 2409\t tour: ['Kiel', 'Hamburg', 'Hannover', 'Duesseldorf', 'Mainz', 'Saarbruecken', 'Stuttgart', 'Muenchen', 'Dresden', 'Berlin', 'Potsdam', 'Schwerin']\n"
          ]
        }
      ],
      "source": [
        "tryAllPermutations(12)"
      ]
    },
    {
      "cell_type": "markdown",
      "metadata": {
        "id": "r1e777Fxw80O"
      },
      "source": [
        "3. Extrapoliere die Rechenzeit für n = 16,15,... und trage die extrapolierte Werte auch in die Tabelle ein. Könnte Dein “Brute Force” Programm in diesem Jahr die kürzeste Rundreise durch alle Landeshauptstädte berechnen?"
      ]
    },
    {
      "cell_type": "code",
      "execution_count": null,
      "metadata": {
        "id": "P0OkP6x3w9vy"
      },
      "outputs": [],
      "source": [
        "# Extrapolation\n",
        "# n = 13 -> 1h\n",
        "# n = 14 -> 14h\n",
        "# n = 15 -> 9d\n",
        "# n = 16 -> 140d\n",
        "# Ja, es wäre möglich innerhalb dieses Jahres die kürzeste Rundreise durch alle Landeshauptstädte berechnen."
      ]
    },
    {
      "cell_type": "markdown",
      "metadata": {
        "id": "JIoy2xKmYeuK"
      },
      "source": [
        "# Aufgabe 2 (2-opt Improvement Heuristic)"
      ]
    },
    {
      "cell_type": "markdown",
      "metadata": {
        "id": "8ay8-IAMYhae"
      },
      "source": [
        "Schreibe eine 2-opt Heuristik. Teile Deine Implementierung in drei Funktionen auf."
      ]
    },
    {
      "cell_type": "markdown",
      "metadata": {
        "id": "_BWSaxHCfRaP"
      },
      "source": [
        "1. Implementiere die Funktion two_opt_xchg(tour, I, k), die die Reihenfolge der Städte i,..., k in tour umdreht und die neue Rundreise zurückgibt."
      ]
    },
    {
      "cell_type": "code",
      "execution_count": 11,
      "metadata": {
        "id": "rnwKyqLoYskY"
      },
      "outputs": [],
      "source": [
        "def two_opt_xchg(tour, i, k):\n",
        "  # Copy the prefix of the tour up to index i (inclusive)\n",
        "  prefix = tour[:i]\n",
        "  # Reverse the sub-tour from index i to index k (inclusive)\n",
        "  reversed_sub_tour = tour[i:k+1][::-1]\n",
        "  # Copy the suffix of the tour from index k+1 onwards\n",
        "  suffix = tour[k+1:]\n",
        "  # Concatenate the prefix, reversed sub-tour, and suffix to form the new tour\n",
        "  new_tour = prefix + reversed_sub_tour + suffix\n",
        "\n",
        "  return new_tour"
      ]
    },
    {
      "cell_type": "markdown",
      "metadata": {
        "id": "OfHbGYm4fU46"
      },
      "source": [
        "2. Implementiere danach die Funktion two_opt_step(tour), die die best-improvement Strategie realisiert. Dafür muss two_opt_step alle sinnvollen 2-opt Vertauschungen von tour durchführen und die kürzeste neue Rundreise sich merken sowie zurückgeben. Es sollte beachtet werden, dass ein 2-opt Tausch (two_opt_xchg) bei der best-improvement Strategie immer auf die original-tour angewendet wird. Zähle auch die Anzahl der ausgewerteten Rundreiselängen und lasse auch diese Größe zurückgeben."
      ]
    },
    {
      "cell_type": "code",
      "execution_count": 12,
      "metadata": {
        "id": "fLkGTgQNYuSk"
      },
      "outputs": [],
      "source": [
        "def two_opt_step(tour, distances):\n",
        "  # Get number of cities in tour\n",
        "  n = len(tour)\n",
        "  # Initialize variable for the best tour and its length\n",
        "  best_tour = tour\n",
        "  best_length = measurePath(tour, distances)\n",
        "  # Initialize variable for the number of evaluations\n",
        "  evaluations = 0\n",
        "\n",
        "  # Flag to track if any improvement is made\n",
        "  improved = True\n",
        "  # Repeat until no improvement is made\n",
        "  while improved:\n",
        "    improved = False\n",
        "    # Iterate through all pairs of edges in the tour\n",
        "    for i in range(1, n - 1):\n",
        "      for k in range(i + 1, n):\n",
        "        # Apply 2-opt exchange to create a new tour\n",
        "        new_tour = two_opt_xchg(tour, i, k)\n",
        "        # Calculate the length of the new tour\n",
        "        new_length = measurePath(new_tour, distances)\n",
        "        # Increase the number of evaluations\n",
        "        evaluations += 1\n",
        "        # If new tour is shorter, update best tour and length\n",
        "        if new_length < best_length:\n",
        "          best_length = new_length\n",
        "          best_tour = new_tour\n",
        "          improved = True\n",
        "\n",
        "  return best_tour, evaluations"
      ]
    },
    {
      "cell_type": "markdown",
      "metadata": {
        "id": "iht5JLYefYBB"
      },
      "source": [
        "3. Implementiere einen Hill Climber, der, ausgehend von einer zufälligen Startlösung, two_opt_step(tour) solange aufruft, solange eine Verbesserung der Rundreise möglich ist. Kann die Rundreise nicht mehr verbessert werden, lasse die Länge der Rundreise, die Anzahl berechneter Rundreiselängen und die Rechenzeit ausgeben."
      ]
    },
    {
      "cell_type": "code",
      "execution_count": 23,
      "metadata": {
        "id": "QCjdSCOtYwgL"
      },
      "outputs": [],
      "source": [
        "def hill_climber(maximalNoOfCities, distances):\n",
        "  start_time = time.perf_counter()\n",
        "\n",
        "  # Creating a random tour\n",
        "  start_tour = list(range(maximalNoOfCities))\n",
        "  random.shuffle(start_tour)\n",
        "  current_tour = start_tour\n",
        "\n",
        "  # Compute length of initial tour\n",
        "  current_length = measurePath(current_tour, distances)\n",
        "  # Initialize variable for the total number of evaluations\n",
        "  total_evaluations = 0\n",
        "\n",
        "  # Flag to track if any improvement is made\n",
        "  improved = True\n",
        "  while improved:\n",
        "      improved = False\n",
        "      # Perform a 2-opt step on current tour\n",
        "      new_tour, evaluations = two_opt_step(current_tour, distances)\n",
        "      total_evaluations += evaluations\n",
        "      # Compute length of new tour\n",
        "      new_length = measurePath(new_tour, distances)\n",
        "      # If new tour is shorter, update current tour and length\n",
        "      if new_length < current_length:\n",
        "          current_tour = new_tour\n",
        "          current_length = new_length\n",
        "          improved = True\n",
        "\n",
        "  # Calculate runtime\n",
        "  end_time = time.perf_counter()\n",
        "  runtime = end_time - start_time\n",
        "\n",
        "  return runtime, current_length, total_evaluations"
      ]
    },
    {
      "cell_type": "markdown",
      "metadata": {
        "id": "hCyDfL0rfcpN"
      },
      "source": [
        "4. Berechne für n = 5,...,16 die Rundreisen mit 2-opt."
      ]
    },
    {
      "cell_type": "code",
      "execution_count": 25,
      "metadata": {
        "colab": {
          "base_uri": "https://localhost:8080/"
        },
        "id": "e923ZXTgYyoP",
        "outputId": "45bb8664-df35-4a08-fe42-793f3574f6e2"
      },
      "outputs": [
        {
          "name": "stdout",
          "output_type": "stream",
          "text": [
            "starting hill climber for 2-opt for n = 5,...,16\n",
            "5 cities\t runtime: 0.0000352000 s -> shortest length: 778\t Total Evaluations: 30\n",
            "6 cities\t runtime: 0.0000877001 s -> shortest length: 1140\t Total Evaluations: 70\n",
            "7 cities\t runtime: 0.0001515000 s -> shortest length: 1934\t Total Evaluations: 135\n",
            "8 cities\t runtime: 0.0001748999 s -> shortest length: 2030\t Total Evaluations: 231\n",
            "9 cities\t runtime: 0.0002852000 s -> shortest length: 2123\t Total Evaluations: 364\n",
            "10 cities\t runtime: 0.0003289001 s -> shortest length: 2275\t Total Evaluations: 396\n",
            "11 cities\t runtime: 0.0006337999 s -> shortest length: 2370\t Total Evaluations: 765\n",
            "12 cities\t runtime: 0.0007051000 s -> shortest length: 2409\t Total Evaluations: 825\n",
            "13 cities\t runtime: 0.0010085000 s -> shortest length: 2511\t Total Evaluations: 1122\n",
            "14 cities\t runtime: 0.0013654000 s -> shortest length: 2639\t Total Evaluations: 1482\n",
            "15 cities\t runtime: 0.0016467000 s -> shortest length: 2982\t Total Evaluations: 1547\n",
            "16 cities\t runtime: 0.0030843000 s -> shortest length: 2947\t Total Evaluations: 3045\n"
          ]
        }
      ],
      "source": [
        "print(\"starting hill climber for 2-opt for n = 5,...,16\")\n",
        "for n in range(5,17):\n",
        "  runtime, current_length, total_evaluations = hill_climber(n, distances)\n",
        "  print(\"{} cities\\t runtime: {:.10f} s -> shortest length: {}\\t Total Evaluations: {}\".format(n, runtime, current_length, total_evaluations))"
      ]
    },
    {
      "cell_type": "markdown",
      "metadata": {
        "id": "NRLJ3Q4-fhU1"
      },
      "source": [
        "5. Da 2-opt ein nichtdeterministischer (randomisierter) Algorithmus ist, lasse ihn fünf Mal laufen und berichte die Rundreiselängen, die durchschnittliche Anzahl der Berechnungen einer Rundreiselänge und die durchschnittliche Rechenzeit. Trage die Werte in die Tabelle ein."
      ]
    },
    {
      "cell_type": "code",
      "execution_count": null,
      "metadata": {
        "colab": {
          "base_uri": "https://localhost:8080/"
        },
        "id": "gKB10ePIgfv6",
        "outputId": "b166647b-00a9-4e4a-89f1-2da51d2086e2"
      },
      "outputs": [
        {
          "name": "stdout",
          "output_type": "stream",
          "text": [
            "5 cycles with 5 cities\t avg_runtime: 0.00011 s\t -> avg_length: 778.0\t lengthList: [778, 778, 778, 778, 778]\t avg_Evaluations: 25.2\n",
            "5 cycles with 6 cities\t avg_runtime: 0.00018 s\t -> avg_length: 1140.0\t lengthList: [1140, 1140, 1140, 1140, 1140]\t avg_Evaluations: 58.0\n",
            "5 cycles with 7 cities\t avg_runtime: 0.00038 s\t -> avg_length: 1934.0\t lengthList: [1934, 1934, 1934, 1934, 1934]\t avg_Evaluations: 129.0\n",
            "5 cycles with 8 cities\t avg_runtime: 0.00144 s\t -> avg_length: 2030.0\t lengthList: [2030, 2030, 2030, 2030, 2030]\t avg_Evaluations: 247.8\n",
            "5 cycles with 9 cities\t avg_runtime: 0.00144 s\t -> avg_length: 2123.0\t lengthList: [2123, 2123, 2123, 2123, 2123]\t avg_Evaluations: 364.0\n",
            "5 cycles with 10 cities\t avg_runtime: 0.00131 s\t -> avg_length: 2275.0\t lengthList: [2275, 2275, 2275, 2275, 2275]\t avg_Evaluations: 482.4\n",
            "5 cycles with 11 cities\t avg_runtime: 0.00153 s\t -> avg_length: 2370.0\t lengthList: [2370, 2370, 2370, 2370, 2370]\t avg_Evaluations: 549.0\n",
            "5 cycles with 12 cities\t avg_runtime: 0.00290 s\t -> avg_length: 2409.0\t lengthList: [2409, 2409, 2409, 2409, 2409]\t avg_Evaluations: 979.0\n",
            "5 cycles with 13 cities\t avg_runtime: 0.00407 s\t -> avg_length: 2547.8\t lengthList: [2511, 2511, 2511, 2511, 2695]\t avg_Evaluations: 1254.0\n",
            "5 cycles with 14 cities\t avg_runtime: 0.00488 s\t -> avg_length: 2682.2\t lengthList: [2711, 2711, 2639, 2639, 2711]\t avg_Evaluations: 1544.4\n",
            "5 cycles with 15 cities\t avg_runtime: 0.00643 s\t -> avg_length: 2852.6\t lengthList: [2959, 2846, 2846, 2806, 2806]\t avg_Evaluations: 1911.0\n",
            "5 cycles with 16 cities\t avg_runtime: 0.00976 s\t -> avg_length: 2855.6\t lengthList: [2794, 2838, 2926, 2926, 2794]\t avg_Evaluations: 2709.0\n"
          ]
        }
      ],
      "source": [
        "for n in range(5,17):\n",
        "  total_runtime = 0\n",
        "  total_evaluations = 0\n",
        "  lengthList = []\n",
        "  for i in range(5):\n",
        "    runtime, current_length, evaluations = hill_climber(n, distances)\n",
        "    total_runtime += runtime\n",
        "    total_evaluations += evaluations\n",
        "    lengthList.append(current_length)\n",
        "\n",
        "  average_runtime = total_runtime/5\n",
        "  average_evaluations = total_evaluations/5\n",
        "  average_length = sum(lengthList)/5\n",
        "\n",
        "  print(\"5 cycles with {} cities\\t avg_runtime: {:.5f} s\\t -> avg_length: {}\\t lengthList: {}\\t avg_Evaluations: {}\".format(n, average_runtime, average_length, lengthList, average_evaluations))"
      ]
    },
    {
      "cell_type": "markdown",
      "metadata": {
        "id": "oVIMCU-agfLQ"
      },
      "source": [
        "6. Für bekannte kürzeste Rundreisen: Findet 2-opt auch immer die kürzeste Rundreise? Wenn nicht, wie nahe kommt 2-opt an eine beste Lösung?\n",
        "7. Nimmt die 2-opt Rechenzeit mit größer werdenden n zu?"
      ]
    },
    {
      "cell_type": "markdown",
      "metadata": {
        "id": "BGFpEsxAfCOH"
      },
      "source": [
        "# Aufgabe 3 (Simulated Annealing)"
      ]
    },
    {
      "cell_type": "markdown",
      "metadata": {
        "id": "nfNHYZF4fD8V"
      },
      "source": [
        "1. Implementiere den SA Algorithmus.\n",
        "2. Der Perturbationsoperator (OP) soll als ein Kombinationsoperator implementiert werden, der bei jedem Aufruf zufällig eine der folgenden Operationen durchführt • ein Schritt des Algorithmus node exchange, • ein Schritt des Algoirthmus node insertion oder • ein Schritt des Algorithmus two_opt_xchg(tour, i, k).\n",
        "3. Stelle einige Experimente mit verschiedenen Abkühlschemas und deren Parametern an und wähle die beste Kombination.\n",
        "4. Lasse SA fünf Mal laufen und berichte die Rundreiselängen, die durchschnittliche Anzahl der Berechnungen einer Rundreiselänge und die durchschnittliche Rechenzeit. Trage die Werte in die Tabelle ein.\n",
        "5. Für bekannte kürzeste Rundreisen: Findet SA auch immer die kürzeste Rundreise? Wenn nicht, wie nahe kommt SA an eine beste Lösung?\n",
        "6. Nimmt die Rechenzeit von SA mit größer werdenden n zu?\n",
        "7. Ist Deine SA Implementierung schneller als 2-opt?\n",
        "8. Erzeugt Dein SA bessere Lösungen als 2-opt?"
      ]
    },
    {
      "cell_type": "markdown",
      "metadata": {
        "id": "M22qxxzPYYI0"
      },
      "source": [
        "# Beispiel (Random Walk)"
      ]
    },
    {
      "cell_type": "code",
      "execution_count": null,
      "metadata": {
        "colab": {
          "base_uri": "https://localhost:8080/"
        },
        "id": "cevqCaHqLStq",
        "outputId": "f025cd2d-db0e-441a-8d96-d3883e00934a"
      },
      "outputs": [
        {
          "name": "stdout",
          "output_type": "stream",
          "text": [
            "['Kiel', 'Hamburg', 'Schwerin', 'Potsdam', 'Berlin', 'Dresden', 'Muenchen', 'Stuttgart', 'Mainz', 'Saarbruecken', 'Duesseldorf', 'Hannover', 'Bremen', 'Magdeburg', 'Erfurt', 'Wiesbaden']\n",
            "[[0, 97, 151, 353, 354, 542, 886, 750, 626, 766, 485, 254, 210, 376, 486, 612], [97, 0, 111, 287, 288, 476, 790, 654, 531, 670, 400, 158, 125, 280, 391, 516], [150, 111, 0, 212, 213, 401, 758, 805, 634, 773, 504, 262, 229, 212, 474, 620], [350, 283, 208, 0, 35, 202, 562, 610, 562, 701, 539, 264, 372, 134, 279, 548], [355, 288, 213, 35, 0, 193, 584, 631, 584, 723, 561, 286, 406, 156, 300, 570], [544, 477, 402, 204, 193, 0, 459, 506, 498, 637, 583, 365, 472, 227, 214, 484], [886, 791, 757, 554, 584, 461, 0, 232, 426, 440, 615, 659, 767, 521, 396, 423], [751, 655, 805, 601, 632, 508, 232, 0, 213, 222, 414, 512, 631, 511, 339, 219], [626, 531, 633, 554, 584, 500, 427, 217, 0, 147, 230, 388, 491, 462, 295, 16], [767, 672, 774, 695, 725, 641, 439, 221, 152, 0, 279, 529, 552, 603, 437, 160], [487, 402, 505, 528, 558, 581, 611, 409, 226, 281, 0, 277, 292, 420, 403, 202], [246, 151, 253, 256, 286, 367, 658, 512, 388, 528, 281, 0, 127, 148, 248, 374], [211, 127, 229, 364, 406, 476, 767, 631, 492, 570, 291, 135, 0, 257, 367, 468], [376, 281, 219, 125, 155, 230, 522, 511, 464, 603, 424, 149, 257, 0, 171, 450], [487, 392, 475, 271, 301, 217, 412, 340, 296, 435, 415, 249, 368, 170, 0, 281], [613, 518, 620, 541, 571, 487, 423, 219, 16, 158, 202, 375, 464, 449, 282, 0]]\n",
            "iteration: 0 tour: ['Magdeburg', 'Potsdam', 'Berlin', 'Kiel', 'Schwerin', 'Erfurt', 'Wiesbaden', 'Dresden', 'Duesseldorf', 'Muenchen', 'Bremen', 'Mainz', 'Stuttgart', 'Hamburg', 'Hannover', 'Saarbruecken'] length: 6522\n",
            "iteration: 4 tour: ['Saarbruecken', 'Hannover', 'Stuttgart', 'Mainz', 'Potsdam', 'Magdeburg', 'Muenchen', 'Kiel', 'Erfurt', 'Dresden', 'Duesseldorf', 'Bremen', 'Hamburg', 'Berlin', 'Schwerin', 'Wiesbaden'] length: 6334\n",
            "iteration: 6 tour: ['Magdeburg', 'Potsdam', 'Erfurt', 'Dresden', 'Hannover', 'Berlin', 'Muenchen', 'Duesseldorf', 'Stuttgart', 'Wiesbaden', 'Mainz', 'Schwerin', 'Hamburg', 'Saarbruecken', 'Bremen', 'Kiel'] length: 5668\n",
            "iteration: 26 tour: ['Hamburg', 'Schwerin', 'Berlin', 'Stuttgart', 'Wiesbaden', 'Saarbruecken', 'Duesseldorf', 'Mainz', 'Hannover', 'Dresden', 'Potsdam', 'Muenchen', 'Erfurt', 'Bremen', 'Magdeburg', 'Kiel'] length: 4852\n",
            "iteration: 109 tour: ['Wiesbaden', 'Mainz', 'Saarbruecken', 'Magdeburg', 'Hamburg', 'Schwerin', 'Erfurt', 'Kiel', 'Duesseldorf', 'Hannover', 'Bremen', 'Potsdam', 'Dresden', 'Berlin', 'Muenchen', 'Stuttgart'] length: 4802\n",
            "iteration: 499 tour: ['Magdeburg', 'Stuttgart', 'Muenchen', 'Mainz', 'Wiesbaden', 'Saarbruecken', 'Hamburg', 'Bremen', 'Kiel', 'Erfurt', 'Potsdam', 'Dresden', 'Berlin', 'Hannover', 'Duesseldorf', 'Schwerin'] length: 4787\n",
            "iteration: 903 tour: ['Magdeburg', 'Duesseldorf', 'Muenchen', 'Stuttgart', 'Hannover', 'Erfurt', 'Dresden', 'Potsdam', 'Schwerin', 'Hamburg', 'Kiel', 'Berlin', 'Wiesbaden', 'Mainz', 'Saarbruecken', 'Bremen'] length: 4760\n",
            "iteration: 991 tour: ['Stuttgart', 'Wiesbaden', 'Duesseldorf', 'Mainz', 'Saarbruecken', 'Muenchen', 'Hannover', 'Hamburg', 'Berlin', 'Dresden', 'Erfurt', 'Bremen', 'Magdeburg', 'Potsdam', 'Schwerin', 'Kiel'] length: 4596\n",
            "iteration: 2257 tour: ['Hamburg', 'Mainz', 'Saarbruecken', 'Stuttgart', 'Muenchen', 'Wiesbaden', 'Hannover', 'Kiel', 'Schwerin', 'Magdeburg', 'Potsdam', 'Berlin', 'Dresden', 'Bremen', 'Erfurt', 'Duesseldorf'] length: 4547\n",
            "iteration: 2719 tour: ['Kiel', 'Berlin', 'Potsdam', 'Magdeburg', 'Hamburg', 'Hannover', 'Dresden', 'Muenchen', 'Stuttgart', 'Wiesbaden', 'Mainz', 'Erfurt', 'Saarbruecken', 'Bremen', 'Duesseldorf', 'Schwerin'] length: 4483\n",
            "iteration: 2862 tour: ['Muenchen', 'Stuttgart', 'Mainz', 'Duesseldorf', 'Magdeburg', 'Schwerin', 'Berlin', 'Dresden', 'Bremen', 'Potsdam', 'Hannover', 'Hamburg', 'Kiel', 'Erfurt', 'Wiesbaden', 'Saarbruecken'] length: 4432\n",
            "iteration: 10295 tour: ['Hamburg', 'Kiel', 'Bremen', 'Saarbruecken', 'Wiesbaden', 'Erfurt', 'Mainz', 'Stuttgart', 'Muenchen', 'Duesseldorf', 'Magdeburg', 'Potsdam', 'Hannover', 'Dresden', 'Berlin', 'Schwerin'] length: 4372\n",
            "iteration: 16299 tour: ['Potsdam', 'Muenchen', 'Saarbruecken', 'Wiesbaden', 'Mainz', 'Erfurt', 'Bremen', 'Kiel', 'Schwerin', 'Magdeburg', 'Hannover', 'Hamburg', 'Duesseldorf', 'Stuttgart', 'Dresden', 'Berlin'] length: 4260\n",
            "iteration: 26082 tour: ['Mainz', 'Wiesbaden', 'Saarbruecken', 'Berlin', 'Potsdam', 'Hannover', 'Kiel', 'Hamburg', 'Bremen', 'Schwerin', 'Magdeburg', 'Dresden', 'Stuttgart', 'Muenchen', 'Erfurt', 'Duesseldorf'] length: 4112\n",
            "iteration: 34712 tour: ['Hannover', 'Berlin', 'Bremen', 'Schwerin', 'Kiel', 'Hamburg', 'Potsdam', 'Dresden', 'Magdeburg', 'Erfurt', 'Saarbruecken', 'Stuttgart', 'Muenchen', 'Mainz', 'Wiesbaden', 'Duesseldorf'] length: 3864\n",
            "iteration: 77749 tour: ['Kiel', 'Duesseldorf', 'Saarbruecken', 'Wiesbaden', 'Mainz', 'Stuttgart', 'Muenchen', 'Erfurt', 'Magdeburg', 'Berlin', 'Hannover', 'Schwerin', 'Dresden', 'Potsdam', 'Bremen', 'Hamburg'] length: 3852\n",
            "iteration: 100000\n",
            "iteration: 138620 tour: ['Wiesbaden', 'Mainz', 'Saarbruecken', 'Stuttgart', 'Muenchen', 'Duesseldorf', 'Hamburg', 'Schwerin', 'Dresden', 'Potsdam', 'Berlin', 'Magdeburg', 'Bremen', 'Kiel', 'Hannover', 'Erfurt'] length: 3791\n",
            "iteration: 200000\n",
            "iteration: 207896 tour: ['Hannover', 'Bremen', 'Berlin', 'Muenchen', 'Stuttgart', 'Saarbruecken', 'Mainz', 'Wiesbaden', 'Duesseldorf', 'Schwerin', 'Kiel', 'Hamburg', 'Magdeburg', 'Potsdam', 'Dresden', 'Erfurt'] length: 3763\n",
            "iteration: 300000\n",
            "iteration: 320224 tour: ['Kiel', 'Hamburg', 'Hannover', 'Bremen', 'Magdeburg', 'Mainz', 'Wiesbaden', 'Saarbruecken', 'Stuttgart', 'Muenchen', 'Erfurt', 'Duesseldorf', 'Dresden', 'Potsdam', 'Berlin', 'Schwerin'] length: 3724\n",
            "iteration: 320245 tour: ['Potsdam', 'Schwerin', 'Kiel', 'Hamburg', 'Duesseldorf', 'Saarbruecken', 'Mainz', 'Wiesbaden', 'Muenchen', 'Stuttgart', 'Erfurt', 'Bremen', 'Hannover', 'Magdeburg', 'Dresden', 'Berlin'] length: 3407\n",
            "iteration: 400000\n",
            "iteration: 500000\n",
            "iteration: 600000\n",
            "iteration: 700000\n",
            "iteration: 800000\n",
            "iteration: 900000\n"
          ]
        }
      ],
      "source": [
        "# example implementation of the random walk algorithm\n",
        "# consider only cities from 0 to maximalNoOfCities\n",
        "def random_walk(maximalNoOfCities):\n",
        "\n",
        "\t# get the longest trip length for an upper bound\n",
        "\t# sum up all distances of a 2-dimensional list\n",
        "\tshortestTourLength = sum([sum(i) for i in distances])\n",
        "\n",
        "\t# for one million steps do: randomly sample a tour and compute the\n",
        "\t# length. if better tour found, remember it\n",
        "\tfor j in range(1000000):\n",
        "\n",
        "\t\t# sample random permutation\n",
        "\t\tp=list(range(maximalNoOfCities))\n",
        "\t\tshuffle(p)\n",
        "\n",
        "\t\t# measure path length\n",
        "\t\ttourLength = measurePath(p, distances)\n",
        "\n",
        "\t\t# if new path is shorter than the old best path, remember the new path\n",
        "\t\tif tourLength < shortestTourLength:\n",
        "\t\t\tshortestTourLength = tourLength\n",
        "\t\t\tshortestTour = p\n",
        "\n",
        "\t\t\t#print the new shortest path\n",
        "\t\t\tshortestTourCities = [cities[i] for i in shortestTour]\n",
        "\t\t\tprint(\"iteration: {} tour: {} length: {}\".format(j,shortestTourCities, shortestTourLength))\n",
        "\n",
        "\t\t\t# do some status printing from time to time\n",
        "\t\telif j % 100000 == 0:\n",
        "\t\t\tprint('iteration: {}'.format(j))\n",
        "\n",
        "# try first with 16 cities\n",
        "maximalNoOfCities=16\n",
        "\n",
        "# load the distance matrix and city names\n",
        "(cities, distances) = loadDistances()\n",
        "\n",
        "# print city names\n",
        "print(cities[:maximalNoOfCities])\n",
        "\n",
        "# print distance matrix\n",
        "print(distances)\n",
        "\n",
        "# do random walk search for 1000000 steps\n",
        "random_walk(maximalNoOfCities)"
      ]
    }
  ],
  "metadata": {
    "colab": {
      "authorship_tag": "ABX9TyOg+dZF46V1WvbPWn7KBqkU",
      "provenance": []
    },
    "kernelspec": {
      "display_name": "Python 3",
      "name": "python3"
    },
    "language_info": {
      "codemirror_mode": {
        "name": "ipython",
        "version": 3
      },
      "file_extension": ".py",
      "mimetype": "text/x-python",
      "name": "python",
      "nbconvert_exporter": "python",
      "pygments_lexer": "ipython3",
      "version": "3.11.9"
    }
  },
  "nbformat": 4,
  "nbformat_minor": 0
}
